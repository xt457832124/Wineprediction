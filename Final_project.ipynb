{
  "nbformat": 4,
  "nbformat_minor": 0,
  "metadata": {
    "colab": {
      "name": "Final_Project_(1)+(1).ipynb",
      "version": "0.3.2",
      "provenance": [],
      "collapsed_sections": [],
      "toc_visible": true
    },
    "language_info": {
      "codemirror_mode": {
        "name": "ipython",
        "version": 3
      },
      "file_extension": ".py",
      "mimetype": "text/x-python",
      "name": "python",
      "nbconvert_exporter": "python",
      "pygments_lexer": "ipython3",
      "version": "3.6.8"
    },
    "kernelspec": {
      "display_name": "Python 3",
      "language": "python",
      "name": "python3"
    }
  },
  "cells": [
    {
      "cell_type": "markdown",
      "metadata": {
        "colab_type": "text",
        "id": "P9wDPz91IVFg"
      },
      "source": [
        "# Final Project: Wine Prediction\n",
        "\n",
        "### Team Members: Yihe Hao (N19289855) and Tian Xie (N18792946)\n",
        "  \n",
        "   In this project, we are going to predict the wine quality based on one, or more of the following criterias: \n",
        "   * Fixed acidity\n",
        "   * Volatile acidity\n",
        "   * Citric acid\n",
        "   * Residual sugar\n",
        "   * Chlorides\n",
        "   * Free sulfur dioxide\n",
        "   * Total sulfur dioxide\n",
        "   * Density\n",
        "   * pH\n",
        "   * Sulphates\n",
        "   * Alcohol Level\n",
        "   \n",
        "We are going to use the following dataset: https://archive.ics.uci.edu/ml/datasets/Wine+Quality<br>\n",
        "This dataset is based on the UCI Machine Learning Repository database, and was first published in 2009.\n",
        "    \n",
        "**Here's the citation:** <br>\n",
        "P. Cortez, A. Cerdeira, F. Almeida, T. Matos and J. Reis. \n",
        "Modeling wine preferences by data mining from physicochemical properties. In Decision Support Systems, Elsevier, 47(4):547-553, 2009.\n",
        "\n"
      ]
    },
    {
      "cell_type": "markdown",
      "metadata": {
        "colab_type": "text",
        "id": "VbacrWswMmcZ"
      },
      "source": [
        "First, let's download some standard packages that's essential to this project"
      ]
    },
    {
      "cell_type": "code",
      "metadata": {
        "colab_type": "code",
        "id": "3Odu8OjjIVFh",
        "colab": {}
      },
      "source": [
        "import pydot\n",
        "import numpy as np\n",
        "import pandas as pd\n",
        "import matplotlib.pyplot as plt\n",
        "from sklearn import svm\n",
        "from scipy.optimize import curve_fit\n",
        "from sklearn.metrics import f1_score\n",
        "from sklearn.metrics import r2_score\n",
        "from sklearn.tree import export_graphviz\n",
        "from sklearn import linear_model,preprocessing\n",
        "from sklearn.tree import DecisionTreeClassifier\n",
        "from sklearn.model_selection import train_test_split\n",
        "from sklearn.linear_model import Lasso, Ridge, ElasticNet\n"
      ],
      "execution_count": 0,
      "outputs": []
    },
    {
      "cell_type": "markdown",
      "metadata": {
        "colab_type": "text",
        "id": "RYZksnPcIVFk"
      },
      "source": [
        "Then, we've download the Dataset and import it from our local harddrive. After that, we'll need to clean up the dataset a little bit. \n",
        "<br>Here are the first few lines of our cleaned dataset: "
      ]
    },
    {
      "cell_type": "code",
      "metadata": {
        "colab_type": "code",
        "id": "XQr7ngaUIVFk",
        "outputId": "a5de11aa-ef9b-4ff9-f6e0-8a4b4178d648",
        "colab": {
          "base_uri": "https://localhost:8080/",
          "height": 433
        }
      },
      "source": [
        "df=pd.read_csv('https://archive.ics.uci.edu/ml/machine-learning-databases/wine-quality/winequality-red.csv',sep=';')\n",
        "\n",
        "#Clean Up the data a little bit \n",
        "names=['fixed acidity', 'volatile acidity' ,'citric acid' ,'residual sugar' ,\n",
        "'chlorides' ,'free sulfur dioxide' ,'total sulfur dioxide' ,'density' ,\n",
        "'pH' ,'sulphates' ,'alcohol ']\n",
        "\n",
        "df.head(10)"
      ],
      "execution_count": 0,
      "outputs": [
        {
          "output_type": "execute_result",
          "data": {
            "text/html": [
              "<div>\n",
              "<style>\n",
              "    .dataframe thead tr:only-child th {\n",
              "        text-align: right;\n",
              "    }\n",
              "\n",
              "    .dataframe thead th {\n",
              "        text-align: left;\n",
              "    }\n",
              "\n",
              "    .dataframe tbody tr th {\n",
              "        vertical-align: top;\n",
              "    }\n",
              "</style>\n",
              "<table border=\"1\" class=\"dataframe\">\n",
              "  <thead>\n",
              "    <tr style=\"text-align: right;\">\n",
              "      <th></th>\n",
              "      <th>fixed acidity</th>\n",
              "      <th>volatile acidity</th>\n",
              "      <th>citric acid</th>\n",
              "      <th>residual sugar</th>\n",
              "      <th>chlorides</th>\n",
              "      <th>free sulfur dioxide</th>\n",
              "      <th>total sulfur dioxide</th>\n",
              "      <th>density</th>\n",
              "      <th>pH</th>\n",
              "      <th>sulphates</th>\n",
              "      <th>alcohol</th>\n",
              "      <th>quality</th>\n",
              "    </tr>\n",
              "  </thead>\n",
              "  <tbody>\n",
              "    <tr>\n",
              "      <th>0</th>\n",
              "      <td>7.4</td>\n",
              "      <td>0.70</td>\n",
              "      <td>0.00</td>\n",
              "      <td>1.9</td>\n",
              "      <td>0.076</td>\n",
              "      <td>11.0</td>\n",
              "      <td>34.0</td>\n",
              "      <td>0.9978</td>\n",
              "      <td>3.51</td>\n",
              "      <td>0.56</td>\n",
              "      <td>9.4</td>\n",
              "      <td>5</td>\n",
              "    </tr>\n",
              "    <tr>\n",
              "      <th>1</th>\n",
              "      <td>7.8</td>\n",
              "      <td>0.88</td>\n",
              "      <td>0.00</td>\n",
              "      <td>2.6</td>\n",
              "      <td>0.098</td>\n",
              "      <td>25.0</td>\n",
              "      <td>67.0</td>\n",
              "      <td>0.9968</td>\n",
              "      <td>3.20</td>\n",
              "      <td>0.68</td>\n",
              "      <td>9.8</td>\n",
              "      <td>5</td>\n",
              "    </tr>\n",
              "    <tr>\n",
              "      <th>2</th>\n",
              "      <td>7.8</td>\n",
              "      <td>0.76</td>\n",
              "      <td>0.04</td>\n",
              "      <td>2.3</td>\n",
              "      <td>0.092</td>\n",
              "      <td>15.0</td>\n",
              "      <td>54.0</td>\n",
              "      <td>0.9970</td>\n",
              "      <td>3.26</td>\n",
              "      <td>0.65</td>\n",
              "      <td>9.8</td>\n",
              "      <td>5</td>\n",
              "    </tr>\n",
              "    <tr>\n",
              "      <th>3</th>\n",
              "      <td>11.2</td>\n",
              "      <td>0.28</td>\n",
              "      <td>0.56</td>\n",
              "      <td>1.9</td>\n",
              "      <td>0.075</td>\n",
              "      <td>17.0</td>\n",
              "      <td>60.0</td>\n",
              "      <td>0.9980</td>\n",
              "      <td>3.16</td>\n",
              "      <td>0.58</td>\n",
              "      <td>9.8</td>\n",
              "      <td>6</td>\n",
              "    </tr>\n",
              "    <tr>\n",
              "      <th>4</th>\n",
              "      <td>7.4</td>\n",
              "      <td>0.70</td>\n",
              "      <td>0.00</td>\n",
              "      <td>1.9</td>\n",
              "      <td>0.076</td>\n",
              "      <td>11.0</td>\n",
              "      <td>34.0</td>\n",
              "      <td>0.9978</td>\n",
              "      <td>3.51</td>\n",
              "      <td>0.56</td>\n",
              "      <td>9.4</td>\n",
              "      <td>5</td>\n",
              "    </tr>\n",
              "    <tr>\n",
              "      <th>5</th>\n",
              "      <td>7.4</td>\n",
              "      <td>0.66</td>\n",
              "      <td>0.00</td>\n",
              "      <td>1.8</td>\n",
              "      <td>0.075</td>\n",
              "      <td>13.0</td>\n",
              "      <td>40.0</td>\n",
              "      <td>0.9978</td>\n",
              "      <td>3.51</td>\n",
              "      <td>0.56</td>\n",
              "      <td>9.4</td>\n",
              "      <td>5</td>\n",
              "    </tr>\n",
              "    <tr>\n",
              "      <th>6</th>\n",
              "      <td>7.9</td>\n",
              "      <td>0.60</td>\n",
              "      <td>0.06</td>\n",
              "      <td>1.6</td>\n",
              "      <td>0.069</td>\n",
              "      <td>15.0</td>\n",
              "      <td>59.0</td>\n",
              "      <td>0.9964</td>\n",
              "      <td>3.30</td>\n",
              "      <td>0.46</td>\n",
              "      <td>9.4</td>\n",
              "      <td>5</td>\n",
              "    </tr>\n",
              "    <tr>\n",
              "      <th>7</th>\n",
              "      <td>7.3</td>\n",
              "      <td>0.65</td>\n",
              "      <td>0.00</td>\n",
              "      <td>1.2</td>\n",
              "      <td>0.065</td>\n",
              "      <td>15.0</td>\n",
              "      <td>21.0</td>\n",
              "      <td>0.9946</td>\n",
              "      <td>3.39</td>\n",
              "      <td>0.47</td>\n",
              "      <td>10.0</td>\n",
              "      <td>7</td>\n",
              "    </tr>\n",
              "    <tr>\n",
              "      <th>8</th>\n",
              "      <td>7.8</td>\n",
              "      <td>0.58</td>\n",
              "      <td>0.02</td>\n",
              "      <td>2.0</td>\n",
              "      <td>0.073</td>\n",
              "      <td>9.0</td>\n",
              "      <td>18.0</td>\n",
              "      <td>0.9968</td>\n",
              "      <td>3.36</td>\n",
              "      <td>0.57</td>\n",
              "      <td>9.5</td>\n",
              "      <td>7</td>\n",
              "    </tr>\n",
              "    <tr>\n",
              "      <th>9</th>\n",
              "      <td>7.5</td>\n",
              "      <td>0.50</td>\n",
              "      <td>0.36</td>\n",
              "      <td>6.1</td>\n",
              "      <td>0.071</td>\n",
              "      <td>17.0</td>\n",
              "      <td>102.0</td>\n",
              "      <td>0.9978</td>\n",
              "      <td>3.35</td>\n",
              "      <td>0.80</td>\n",
              "      <td>10.5</td>\n",
              "      <td>5</td>\n",
              "    </tr>\n",
              "  </tbody>\n",
              "</table>\n",
              "</div>"
            ],
            "text/plain": [
              "   fixed acidity  volatile acidity  citric acid  residual sugar  chlorides  \\\n",
              "0            7.4              0.70         0.00             1.9      0.076   \n",
              "1            7.8              0.88         0.00             2.6      0.098   \n",
              "2            7.8              0.76         0.04             2.3      0.092   \n",
              "3           11.2              0.28         0.56             1.9      0.075   \n",
              "4            7.4              0.70         0.00             1.9      0.076   \n",
              "5            7.4              0.66         0.00             1.8      0.075   \n",
              "6            7.9              0.60         0.06             1.6      0.069   \n",
              "7            7.3              0.65         0.00             1.2      0.065   \n",
              "8            7.8              0.58         0.02             2.0      0.073   \n",
              "9            7.5              0.50         0.36             6.1      0.071   \n",
              "\n",
              "   free sulfur dioxide  total sulfur dioxide  density    pH  sulphates  \\\n",
              "0                 11.0                  34.0   0.9978  3.51       0.56   \n",
              "1                 25.0                  67.0   0.9968  3.20       0.68   \n",
              "2                 15.0                  54.0   0.9970  3.26       0.65   \n",
              "3                 17.0                  60.0   0.9980  3.16       0.58   \n",
              "4                 11.0                  34.0   0.9978  3.51       0.56   \n",
              "5                 13.0                  40.0   0.9978  3.51       0.56   \n",
              "6                 15.0                  59.0   0.9964  3.30       0.46   \n",
              "7                 15.0                  21.0   0.9946  3.39       0.47   \n",
              "8                  9.0                  18.0   0.9968  3.36       0.57   \n",
              "9                 17.0                 102.0   0.9978  3.35       0.80   \n",
              "\n",
              "   alcohol  quality  \n",
              "0      9.4        5  \n",
              "1      9.8        5  \n",
              "2      9.8        5  \n",
              "3      9.8        6  \n",
              "4      9.4        5  \n",
              "5      9.4        5  \n",
              "6      9.4        5  \n",
              "7     10.0        7  \n",
              "8      9.5        7  \n",
              "9     10.5        5  "
            ]
          },
          "metadata": {
            "tags": []
          },
          "execution_count": 105
        }
      ]
    },
    {
      "cell_type": "markdown",
      "metadata": {
        "colab_type": "text",
        "id": "Y_z1ULOEMmcg"
      },
      "source": [
        "After that, we've used the `df.hist()` command to observe the overall summary of the cleaned dataset. "
      ]
    },
    {
      "cell_type": "code",
      "metadata": {
        "colab_type": "code",
        "id": "zM8woxsfIVFo",
        "outputId": "c25e9cf6-5cb1-43bc-ba69-c79a192f6950",
        "colab": {
          "base_uri": "https://localhost:8080/",
          "height": 765
        }
      },
      "source": [
        "#Print out overall summary of the data\n",
        "\n",
        "print(df.describe())\n",
        "df.hist(sharex=False, sharey=False, xlabelsize=1, ylabelsize=1)\n",
        "plt.show()"
      ],
      "execution_count": 0,
      "outputs": [
        {
          "output_type": "stream",
          "text": [
            "       fixed acidity  volatile acidity  citric acid  residual sugar  \\\n",
            "count    1599.000000       1599.000000  1599.000000     1599.000000   \n",
            "mean        8.319637          0.527821     0.270976        2.538806   \n",
            "std         1.741096          0.179060     0.194801        1.409928   \n",
            "min         4.600000          0.120000     0.000000        0.900000   \n",
            "25%         7.100000          0.390000     0.090000        1.900000   \n",
            "50%         7.900000          0.520000     0.260000        2.200000   \n",
            "75%         9.200000          0.640000     0.420000        2.600000   \n",
            "max        15.900000          1.580000     1.000000       15.500000   \n",
            "\n",
            "         chlorides  free sulfur dioxide  total sulfur dioxide      density  \\\n",
            "count  1599.000000          1599.000000           1599.000000  1599.000000   \n",
            "mean      0.087467            15.874922             46.467792     0.996747   \n",
            "std       0.047065            10.460157             32.895324     0.001887   \n",
            "min       0.012000             1.000000              6.000000     0.990070   \n",
            "25%       0.070000             7.000000             22.000000     0.995600   \n",
            "50%       0.079000            14.000000             38.000000     0.996750   \n",
            "75%       0.090000            21.000000             62.000000     0.997835   \n",
            "max       0.611000            72.000000            289.000000     1.003690   \n",
            "\n",
            "                pH    sulphates      alcohol      quality  \n",
            "count  1599.000000  1599.000000  1599.000000  1599.000000  \n",
            "mean      3.311113     0.658149    10.422983     5.636023  \n",
            "std       0.154386     0.169507     1.065668     0.807569  \n",
            "min       2.740000     0.330000     8.400000     3.000000  \n",
            "25%       3.210000     0.550000     9.500000     5.000000  \n",
            "50%       3.310000     0.620000    10.200000     6.000000  \n",
            "75%       3.400000     0.730000    11.100000     6.000000  \n",
            "max       4.010000     2.000000    14.900000     8.000000  \n"
          ],
          "name": "stdout"
        },
        {
          "output_type": "display_data",
          "data": {
            "image/png": "[encoded data removed]",
            "text/plain": [
              "<Figure size 432x288 with 12 Axes>"
            ]
          },
          "metadata": {
            "tags": []
          }
        }
      ]
    },
    {
      "cell_type": "markdown",
      "metadata": {
        "colab_type": "text",
        "id": "k6_b7JfgMmcj"
      },
      "source": [
        "### A Glance at the Wine Quality\n",
        "\n",
        "  In order to predict the wine quality, first we would need to look at the overall data distribution trend for the wine quality. In this dataset, there's roughly 1600 rows of data. \n",
        "\n",
        "  As what we can see from the bar plot below, although it seems like it satisfies the normal distribution trend. However, the wine quality are mostly concentrated on the range of 3-9, which means, there's no extremely low/high quality ratings in this dataset.\n",
        "\n",
        "  Furthermore, the bell curve clearly states that among all of the wine quality in this dataset, 5 is the most common rating.\n",
        "  \n",
        "  This is one of the main reasons why accuracy rate is so low compared with the the labs in which we've done beforehand. "
      ]
    },
    {
      "cell_type": "code",
      "metadata": {
        "colab_type": "code",
        "id": "DszjPrLAIVFq",
        "outputId": "f772d0b6-c762-4d22-adcf-f9db4a22affe",
        "colab": {
          "base_uri": "https://localhost:8080/",
          "height": 295
        }
      },
      "source": [
        "#Construct the bar plot\n",
        "\n",
        "a = df['quality']\n",
        "a_3 = []\n",
        "a_4 = []\n",
        "a_5 = []\n",
        "a_6 = []\n",
        "a_7 = []\n",
        "a_8 = []\n",
        "a_9 = []\n",
        "\n",
        "a_other = []\n",
        "for i in range(0,1599):\n",
        "  if a[i] == 3:\n",
        "    a_3.append(a[i])\n",
        "  elif a[i] == 4:\n",
        "    a_4.append(a[i])  \n",
        "  elif a[i] == 5:\n",
        "    a_5.append(a[i])\n",
        "  elif a[i] == 6:\n",
        "    a_6.append(a[i])\n",
        "  elif a[i] == 7:\n",
        "    a_7.append(a[i])\n",
        "  elif a[i] == 8:\n",
        "    a_8.append(a[i])\n",
        "  elif a[i] == 9:\n",
        "    a_9.append(a[i])\n",
        "  else:\n",
        "    a_other.append(a[i])\n",
        "    \n",
        "a_3 = len(np.array(a_3))\n",
        "a_4 = len(np.array(a_4))   \n",
        "a_5 = len(np.array(a_5))\n",
        "a_6 = len(np.array(a_6))\n",
        "a_7 = len(np.array(a_7))\n",
        "a_8 = len(np.array(a_8))\n",
        "a_9 = len(np.array(a_9))\n",
        "\n",
        "height = [a_3,a_4,a_5,a_6,a_7,a_8,a_9]\n",
        "category = ['3','4','5','6','7','8','9']\n",
        "\n",
        "plt.bar(category,height, color ='blue')     \n",
        "plt.xlabel('Quality')\n",
        "plt.ylabel('Amount of samples')\n",
        "plt.title('Bar Plot for Wine Quality')\n",
        "\n",
        "#Print a bell curve above the bar plot. \n",
        "\n",
        "def func(x, a, b, c):\n",
        "    # a Gaussian distribution\n",
        "    return a * np.exp(-(x-b)**2/(2*c**2))\n",
        "  \n",
        "list1 = range(0,7)\n",
        "list2 = height  \n",
        "popt, pcov = curve_fit(func, list1, list2)\n",
        "\n",
        "x_curve = np.linspace(-5, 5, 100)\n",
        "y_curve = func(x_curve, *popt)\n",
        "\n",
        "plt.plot(x_curve, y_curve, c='r', lw = '3')\n",
        "plt.xlim([-0.5,6])\n",
        "plt.show()"
      ],
      "execution_count": 0,
      "outputs": [
        {
          "output_type": "display_data",
          "data": {
            "image/png": "[encoded data removed]",
            "text/plain": [
              "<Figure size 432x288 with 1 Axes>"
            ]
          },
          "metadata": {
            "tags": []
          }
        }
      ]
    },
    {
      "cell_type": "markdown",
      "metadata": {
        "colab_type": "text",
        "id": "rBFcFtlzMmcp"
      },
      "source": [
        "### Improving accuracy rate\n",
        "  In order to improve the accuracy rate, we've divided the wine quality into the following three ratings: \n",
        "  \n",
        "  * 1 - 4 would be poor quality\n",
        "  * 5 - 6 would be average quality\n",
        "  * 7 - 10 would be good quality\n",
        "  \n",
        "After dividing the data into three categories, we've labeled those three category as `[0,1,2]`. \n",
        "\n",
        "We've also display the first two columns for our own references. \n",
        "  \n",
        "After that, we've seperated the label from all features for scaling later."
      ]
    },
    {
      "cell_type": "code",
      "metadata": {
        "colab_type": "code",
        "id": "IPPghBwPJdl5",
        "outputId": "eddffd69-0c6a-46f1-a942-a455281ceec0",
        "colab": {
          "base_uri": "https://localhost:8080/",
          "height": 185
        }
      },
      "source": [
        "#Defining the splits for categories. 1–4 will be poor quality, 5–6 will be average, 7–10 will be great\n",
        "bins = [1,4,6,10]\n",
        "#0 for low quality, 1 for average, 2 for great quality\n",
        "quality_labels=[0,1,2]\n",
        "df['quality_categorical'] = pd.cut(df['quality'], bins=bins, labels=quality_labels, include_lowest=True)\n",
        "#Displays the first 2 columns\n",
        "display(df.head(n=2))\n",
        "# Split the data into features and target label\n",
        "quality_raw = df['quality_categorical']\n",
        "features_raw = df.drop(['quality', 'quality_categorical'], axis = 1)\n",
        "\n",
        "y_df=df['quality_categorical'].values\n",
        "y=np.array(y_df)\n",
        "X_df=features_raw.values\n",
        "X=np.array(X_df)"
      ],
      "execution_count": 0,
      "outputs": [
        {
          "output_type": "display_data",
          "data": {
            "text/html": [
              "<div>\n",
              "<style>\n",
              "    .dataframe thead tr:only-child th {\n",
              "        text-align: right;\n",
              "    }\n",
              "\n",
              "    .dataframe thead th {\n",
              "        text-align: left;\n",
              "    }\n",
              "\n",
              "    .dataframe tbody tr th {\n",
              "        vertical-align: top;\n",
              "    }\n",
              "</style>\n",
              "<table border=\"1\" class=\"dataframe\">\n",
              "  <thead>\n",
              "    <tr style=\"text-align: right;\">\n",
              "      <th></th>\n",
              "      <th>fixed acidity</th>\n",
              "      <th>volatile acidity</th>\n",
              "      <th>citric acid</th>\n",
              "      <th>residual sugar</th>\n",
              "      <th>chlorides</th>\n",
              "      <th>free sulfur dioxide</th>\n",
              "      <th>total sulfur dioxide</th>\n",
              "      <th>density</th>\n",
              "      <th>pH</th>\n",
              "      <th>sulphates</th>\n",
              "      <th>alcohol</th>\n",
              "      <th>quality</th>\n",
              "      <th>quality_categorical</th>\n",
              "    </tr>\n",
              "  </thead>\n",
              "  <tbody>\n",
              "    <tr>\n",
              "      <th>0</th>\n",
              "      <td>7.4</td>\n",
              "      <td>0.70</td>\n",
              "      <td>0.0</td>\n",
              "      <td>1.9</td>\n",
              "      <td>0.076</td>\n",
              "      <td>11.0</td>\n",
              "      <td>34.0</td>\n",
              "      <td>0.9978</td>\n",
              "      <td>3.51</td>\n",
              "      <td>0.56</td>\n",
              "      <td>9.4</td>\n",
              "      <td>5</td>\n",
              "      <td>1</td>\n",
              "    </tr>\n",
              "    <tr>\n",
              "      <th>1</th>\n",
              "      <td>7.8</td>\n",
              "      <td>0.88</td>\n",
              "      <td>0.0</td>\n",
              "      <td>2.6</td>\n",
              "      <td>0.098</td>\n",
              "      <td>25.0</td>\n",
              "      <td>67.0</td>\n",
              "      <td>0.9968</td>\n",
              "      <td>3.20</td>\n",
              "      <td>0.68</td>\n",
              "      <td>9.8</td>\n",
              "      <td>5</td>\n",
              "      <td>1</td>\n",
              "    </tr>\n",
              "  </tbody>\n",
              "</table>\n",
              "</div>"
            ],
            "text/plain": [
              "   fixed acidity  volatile acidity  citric acid  residual sugar  chlorides  \\\n",
              "0            7.4              0.70          0.0             1.9      0.076   \n",
              "1            7.8              0.88          0.0             2.6      0.098   \n",
              "\n",
              "   free sulfur dioxide  total sulfur dioxide  density    pH  sulphates  \\\n",
              "0                 11.0                  34.0   0.9978  3.51       0.56   \n",
              "1                 25.0                  67.0   0.9968  3.20       0.68   \n",
              "\n",
              "   alcohol  quality quality_categorical  \n",
              "0      9.4        5                   1  \n",
              "1      9.8        5                   1  "
            ]
          },
          "metadata": {
            "tags": []
          }
        }
      ]
    },
    {
      "cell_type": "markdown",
      "metadata": {
        "colab_type": "text",
        "id": "pzW6nkMlMmcs"
      },
      "source": [
        "In order to obtain a higher accuracy rate, we've scaled `X` like we did in the neural network lab assignment. \n",
        "\n",
        "We've also splitted the data into training & testing for further use. "
      ]
    },
    {
      "cell_type": "code",
      "metadata": {
        "colab_type": "code",
        "id": "w-RxnfhfK449",
        "colab": {}
      },
      "source": [
        "#Scale the data first\n",
        "X_scaled=preprocessing.scale(X)\n",
        "\n",
        "#Split the data into Training & Testing\n",
        "xtr,xts,ytr,yts = train_test_split(X_scaled,y)"
      ],
      "execution_count": 0,
      "outputs": []
    },
    {
      "cell_type": "markdown",
      "metadata": {
        "colab_type": "text",
        "id": "J6V7j5bxvN9J"
      },
      "source": [
        "### Calculating Accuracy Rate"
      ]
    },
    {
      "cell_type": "markdown",
      "metadata": {
        "colab_type": "text",
        "id": "jJ5aBx3XvSU1"
      },
      "source": [
        "#### 3.1 Logistic Regression\n",
        "\n",
        "Use Logistic Regression to fit the training data `xtr` and `ytr`"
      ]
    },
    {
      "cell_type": "code",
      "metadata": {
        "colab_type": "code",
        "id": "vFbwxkOiNRQx",
        "outputId": "d62da82d-3ac6-4a06-affe-8b63e3209144",
        "colab": {
          "base_uri": "https://localhost:8080/",
          "height": 85
        }
      },
      "source": [
        "#logreg=linear_model.LogisticRegression(C=1e5,multi_class='ovr',solver='lbfgs')\n",
        "logreg=linear_model.LogisticRegression(C=1e5,multi_class='ovr',solver='lbfgs')\n",
        "\n",
        "#logreg.fit(X_scaled,y)\n",
        "logreg.fit(xtr,ytr)"
      ],
      "execution_count": 0,
      "outputs": [
        {
          "output_type": "execute_result",
          "data": {
            "text/plain": [
              "LogisticRegression(C=100000.0, class_weight=None, dual=False,\n",
              "          fit_intercept=True, intercept_scaling=1, max_iter=100,\n",
              "          multi_class='ovr', n_jobs=None, penalty='l2', random_state=None,\n",
              "          solver='lbfgs', tol=0.0001, verbose=0, warm_start=False)"
            ]
          },
          "metadata": {
            "tags": []
          },
          "execution_count": 110
        }
      ]
    },
    {
      "cell_type": "markdown",
      "metadata": {
        "colab_type": "text",
        "id": "1c8xRJXPMmcy"
      },
      "source": [
        "Obtain the accuracy rate for using logistic regression and print it out:"
      ]
    },
    {
      "cell_type": "code",
      "metadata": {
        "colab_type": "code",
        "id": "MgO4GMdtO1cO",
        "outputId": "1253d479-0235-4024-8626-bc6c06a5612e",
        "colab": {
          "base_uri": "https://localhost:8080/",
          "height": 34
        }
      },
      "source": [
        "#yhat=logreg.predict(X_scaled)\n",
        "yhat=logreg.predict(xts)\n",
        "acc=np.mean(yhat==yts)\n",
        "print('For Logistic Regression, Accuracy rate on the training data is {0:f}'.format(acc))"
      ],
      "execution_count": 0,
      "outputs": [
        {
          "output_type": "stream",
          "text": [
            "For Logistic Regression, Accuracy rate on the training data is 0.815000\n"
          ],
          "name": "stdout"
        }
      ]
    },
    {
      "cell_type": "markdown",
      "metadata": {
        "colab_type": "text",
        "id": "_ScfH039Mmc1"
      },
      "source": [
        "#### 3.2 SVM\n",
        "\n",
        "Use SVM to fit the training data `xtr` and `ytr`"
      ]
    },
    {
      "cell_type": "code",
      "metadata": {
        "colab_type": "code",
        "id": "ZeAy2nvCQxAs",
        "outputId": "4b9a55c1-8bab-412d-fc3e-3404028f8b6e",
        "colab": {
          "base_uri": "https://localhost:8080/",
          "height": 85
        }
      },
      "source": [
        "svc = svm.SVC(kernel=\"linear\",C=2.8, gamma=.0073,verbose=10)\n",
        "#svc.fit(X_scaled,y)\n",
        "svc.fit(xtr,ytr)"
      ],
      "execution_count": 0,
      "outputs": [
        {
          "output_type": "stream",
          "text": [
            "[LibSVM]"
          ],
          "name": "stdout"
        },
        {
          "output_type": "execute_result",
          "data": {
            "text/plain": [
              "SVC(C=2.8, cache_size=200, class_weight=None, coef0=0.0,\n",
              "  decision_function_shape='ovr', degree=3, gamma=0.0073, kernel='linear',\n",
              "  max_iter=-1, probability=False, random_state=None, shrinking=True,\n",
              "  tol=0.001, verbose=10)"
            ]
          },
          "metadata": {
            "tags": []
          },
          "execution_count": 112
        }
      ]
    },
    {
      "cell_type": "markdown",
      "metadata": {
        "colab_type": "text",
        "id": "JGJtCHTvMmc4"
      },
      "source": [
        "Obtain the accuracy rate for using SVM and print it out:"
      ]
    },
    {
      "cell_type": "code",
      "metadata": {
        "colab_type": "code",
        "id": "w1V8uJGbRFfQ",
        "outputId": "a7eb4963-59a7-431f-a91f-cfc2826ac900",
        "colab": {
          "base_uri": "https://localhost:8080/",
          "height": 34
        }
      },
      "source": [
        "yhat_svm=svc.predict(xts)\n",
        "acc=np.mean(yhat_svm==yts)\n",
        "print('For SVM, Accuracy rate on the training data is {0:f}'.format(acc))"
      ],
      "execution_count": 0,
      "outputs": [
        {
          "output_type": "stream",
          "text": [
            "For SVM, Accuracy rate on the training data is 0.787500\n"
          ],
          "name": "stdout"
        }
      ]
    },
    {
      "cell_type": "markdown",
      "metadata": {
        "colab_type": "text",
        "id": "P1Cu4hqOMmc7"
      },
      "source": [
        "Print out the mispredicted data (For our own reference)"
      ]
    },
    {
      "cell_type": "code",
      "metadata": {
        "colab_type": "code",
        "id": "LKF7TwYSTVWI",
        "outputId": "fad3e490-b078-45b4-f99f-d63ddf2222c4",
        "colab": {
          "base_uri": "https://localhost:8080/",
          "height": 85
        }
      },
      "source": [
        "a=np.where(yhat==2)[0]\n",
        "a"
      ],
      "execution_count": 0,
      "outputs": [
        {
          "output_type": "execute_result",
          "data": {
            "text/plain": [
              "array([ 27,  40,  53,  64,  73,  86, 118, 138, 176, 192, 239, 250, 279,\n",
              "       295, 300, 301, 318, 327, 331, 342, 349, 355, 362], dtype=int64)"
            ]
          },
          "metadata": {
            "tags": []
          },
          "execution_count": 114
        }
      ]
    },
    {
      "cell_type": "markdown",
      "metadata": {
        "colab_type": "text",
        "id": "h55l1SWmMmc9"
      },
      "source": [
        "#### 3.3 Decision Tree and Random Forest\n",
        "Use Decision Tree and Random Forest Classifier to fit the training data `xtr` and `ytr`\n",
        "\n",
        "Obtain the error rate for using this method, and print out the accuracy rate:"
      ]
    },
    {
      "cell_type": "code",
      "metadata": {
        "colab_type": "code",
        "id": "Sq23pFCsn96d",
        "outputId": "1c605006-9e41-458c-b2db-92a0bc407a24",
        "colab": {
          "base_uri": "https://localhost:8080/",
          "height": 34
        }
      },
      "source": [
        "clf = DecisionTreeClassifier()\n",
        "clf.fit(xtr, ytr)\n",
        "yhat_decision=clf.predict(xts)\n",
        "acc_clf=np.mean(yhat_decision==yts)\n",
        "\n",
        "print('For Decision Tree Classifier, Accuracy rate on the training data is {0:f}'.format(acc_clf))"
      ],
      "execution_count": 0,
      "outputs": [
        {
          "output_type": "stream",
          "text": [
            "For Decision Tree Classifier, Accuracy rate on the training data is 0.775000\n"
          ],
          "name": "stdout"
        }
      ]
    },
    {
      "cell_type": "markdown",
      "metadata": {
        "colab_type": "text",
        "id": "3Z-bebPiMmdA"
      },
      "source": [
        "Print out the mispredicted data (For our own reference)"
      ]
    },
    {
      "cell_type": "code",
      "metadata": {
        "colab_type": "code",
        "id": "jTTrcDibpihR",
        "outputId": "8bc23fea-669c-46c1-e384-d6cf3a1ab02a",
        "colab": {
          "base_uri": "https://localhost:8080/",
          "height": 34
        }
      },
      "source": [
        "a=np.where(yhat_decision==0)[0]\n",
        "a"
      ],
      "execution_count": 0,
      "outputs": [
        {
          "output_type": "execute_result",
          "data": {
            "text/plain": [
              "array([ 41,  69,  76,  88,  92, 112, 151, 168, 169, 202, 228, 248, 276,\n",
              "       308, 309, 313, 352, 364, 375, 380, 385, 398], dtype=int64)"
            ]
          },
          "metadata": {
            "tags": []
          },
          "execution_count": 116
        }
      ]
    },
    {
      "cell_type": "markdown",
      "metadata": {
        "colab_type": "text",
        "id": "Gll9QB09MmdD"
      },
      "source": [
        "Print out the label of those mispredicted data (For our own reference)"
      ]
    },
    {
      "cell_type": "code",
      "metadata": {
        "colab_type": "code",
        "id": "cm9lmtEVs_SX",
        "outputId": "3adf353e-bcae-40a7-facb-a87639c181b4",
        "colab": {
          "base_uri": "https://localhost:8080/",
          "height": 85
        }
      },
      "source": [
        "y_error=np.where(yhat!=yts)[0]\n",
        "y[y_error]"
      ],
      "execution_count": 0,
      "outputs": [
        {
          "output_type": "execute_result",
          "data": {
            "text/plain": [
              "array([1, 2, 1, 2, 1, 1, 1, 1, 1, 1, 1, 1, 0, 1, 1, 1, 1, 1, 1, 1, 1, 1, 1,\n",
              "       1, 1, 1, 1, 1, 1, 1, 1, 1, 1, 1, 1, 1, 1, 1, 0, 1, 1, 1, 1, 2, 1, 1,\n",
              "       2, 0, 1, 1, 1, 1, 2, 1, 1, 1, 1, 1, 1, 1, 2, 1, 2, 1, 1, 1, 1, 1, 2,\n",
              "       1, 1, 1, 1, 2], dtype=int64)"
            ]
          },
          "metadata": {
            "tags": []
          },
          "execution_count": 117
        }
      ]
    },
    {
      "cell_type": "markdown",
      "metadata": {
        "colab_type": "text",
        "id": "NWzH-zlzPLtu"
      },
      "source": [
        "For a difference observation, instead of using `test_size = 0.5`, we've rescaled the training and testing data by using\n",
        "\n",
        "`test_size = 0.33`\n",
        "\n",
        "Use decision tree classifier to fit the training data again, and observe the accuracy rate to see if there's any differences."
      ]
    },
    {
      "cell_type": "code",
      "metadata": {
        "colab_type": "code",
        "id": "Vdm8Qze0PKeb",
        "outputId": "cc352a25-3094-4710-977a-ec3d5651de45",
        "colab": {
          "base_uri": "https://localhost:8080/",
          "height": 74
        }
      },
      "source": [
        "Xtr,Xts,Ytr,Yts = train_test_split(X_scaled,y,test_size=0.33)\n",
        "\n",
        "clf = DecisionTreeClassifier()\n",
        "clf.fit(Xtr, Ytr)\n",
        "yhat_decision=clf.predict(Xts)\n",
        "acc_clf=np.mean(yhat_decision==Yts)\n",
        "print('For Decision Tree Classifier under a different scaling method, Accuracy rate on the training data is {0:f}'.format(acc_clf))"
      ],
      "execution_count": 0,
      "outputs": [
        {
          "output_type": "stream",
          "text": [
            "For Decision Tree Classifier under a different scaling method, Accuracy rate on the training data is 0.814394\n"
          ],
          "name": "stdout"
        }
      ]
    },
    {
      "cell_type": "markdown",
      "metadata": {
        "colab_type": "text",
        "id": "doyvkmtDP4y3"
      },
      "source": [
        "After that, we've plotted the decision tree by using the reference of `pydot` and `sklearn.tree`.\n",
        "\n",
        "Figure below shows our drawings for the decision tree. "
      ]
    },
    {
      "cell_type": "code",
      "metadata": {
        "colab_type": "code",
        "id": "nA38_n8EQiBY",
        "outputId": "34e7b582-720c-4518-e141-257ef621a620",
        "colab": {
          "base_uri": "https://localhost:8080/",
          "height": 639
        }
      },
      "source": [
        "#Plot the decision tree\n",
        "\n",
        "names_clf=['fixed acidity', 'volatile acidity' ,'citric acid' ,'residual sugar' ,\n",
        "'chlorides' ,'free sulfur dioxide' ,'total sulfur dioxide' ,'density' ,\n",
        "'pH' ,'sulphates' ,'alcohol ']\n",
        "export_graphviz(clf, out_file = 'clf_wine.dot', feature_names = names_clf, rounded = True, precision = 1)\n",
        "\n",
        "(graph_wine, ) = pydot.graph_from_dot_file('clf_wine.dot')\n",
        "graph_wine.write_png('clf_wine.png')\n",
        "\n",
        "def plot_decisiontree(img_name):\n",
        "    tree_image = plt.imread(img_name)\n",
        "    plt.figure(figsize=(100,10))\n",
        "    plt.xticks([])\n",
        "    plt.yticks([])\n",
        "    plt.imshow(tree_image)\n",
        "    plt.show()\n",
        "print(\"Here's a look at our decision tree:\")\n",
        "plot_decisiontree('clf_wine.png')"
      ],
      "execution_count": 0,
      "outputs": [
        {
          "output_type": "stream",
          "text": [
            "Here's a look at our decision tree:\n"
          ],
          "name": "stdout"
        },
        {
          "output_type": "display_data",
          "data": {
            "image/png": "[encoded data removed]",
            "text/plain": [
              "<Figure size 7200x720 with 1 Axes>"
            ]
          },
          "metadata": {
            "tags": []
          }
        }
      ]
    },
    {
      "cell_type": "markdown",
      "metadata": {
        "colab_type": "text",
        "id": "_3M0MZI8_-nR"
      },
      "source": [
        "\n",
        "#### 3.4 Importance Calculation\n",
        "\n",
        "We've also calculated the importance factor for all the different categories, according to our result, it seems like volatile acidity and alcohol would result in a more successful quality rating. "
      ]
    },
    {
      "cell_type": "code",
      "metadata": {
        "colab_type": "code",
        "id": "MmUa0Ogv_-nS",
        "outputId": "b1d1329d-42d7-4105-a753-1b68dad169eb",
        "colab": {
          "base_uri": "https://localhost:8080/",
          "height": 204
        }
      },
      "source": [
        "\n",
        "# Get numerical feature importances\n",
        "importances = list(clf.feature_importances_)\n",
        "# List of tuples with variable and importance\n",
        "feature_importances = [(feature, round(importance, 2)) for feature, importance in zip(names_clf, importances)]\n",
        "# Sort the feature importances by most important first\n",
        "feature_importances = sorted(feature_importances, key = lambda x: x[1], reverse = True)\n",
        "# Print out the feature and importances \n",
        "[print('Variable: {:20} Importance: {}'.format(*pair)) for pair in feature_importances];"
      ],
      "execution_count": 0,
      "outputs": [
        {
          "output_type": "stream",
          "text": [
            "Variable: alcohol              Importance: 0.16\n",
            "Variable: volatile acidity     Importance: 0.14\n",
            "Variable: citric acid          Importance: 0.13\n",
            "Variable: residual sugar       Importance: 0.1\n",
            "Variable: fixed acidity        Importance: 0.09\n",
            "Variable: chlorides            Importance: 0.08\n",
            "Variable: sulphates            Importance: 0.08\n",
            "Variable: pH                   Importance: 0.07\n",
            "Variable: free sulfur dioxide  Importance: 0.06\n",
            "Variable: total sulfur dioxide Importance: 0.06\n",
            "Variable: density              Importance: 0.05\n"
          ],
          "name": "stdout"
        }
      ]
    },
    {
      "cell_type": "code",
      "metadata": {
        "colab_type": "code",
        "id": "7fbQj_Pl_-nW",
        "outputId": "c25753bc-6bed-437c-d017-ebd38e4ffd2f",
        "colab": {
          "base_uri": "https://localhost:8080/",
          "height": 102
        }
      },
      "source": [
        "clf_prune = DecisionTreeClassifier(max_leaf_nodes = 20, min_samples_leaf = 1, max_depth= 5,max_features=3)\n",
        "clf_prune.fit(Xtr,Ytr)"
      ],
      "execution_count": 0,
      "outputs": [
        {
          "output_type": "execute_result",
          "data": {
            "text/plain": [
              "DecisionTreeClassifier(class_weight=None, criterion='gini', max_depth=5,\n",
              "            max_features=3, max_leaf_nodes=20, min_impurity_decrease=0.0,\n",
              "            min_impurity_split=None, min_samples_leaf=1,\n",
              "            min_samples_split=2, min_weight_fraction_leaf=0.0,\n",
              "            presort=False, random_state=None, splitter='best')"
            ]
          },
          "metadata": {
            "tags": []
          },
          "execution_count": 121
        }
      ]
    },
    {
      "cell_type": "markdown",
      "metadata": {
        "colab_type": "text",
        "id": "DTzzcKMCvqAy"
      },
      "source": [
        "Obtain the accuracy rate for the decision tree, as what we can see, the accuracy rate isn't very high. "
      ]
    },
    {
      "cell_type": "code",
      "metadata": {
        "colab_type": "code",
        "id": "KzfDRep5_-na",
        "outputId": "1b01fd45-8886-4f98-8ee9-3b48e4a7c68b",
        "colab": {
          "base_uri": "https://localhost:8080/",
          "height": 34
        }
      },
      "source": [
        "yhat_decision_prune=clf_prune.predict(Xts)\n",
        "acc_clf_prune=np.mean(yhat_decision_prune==Yts)\n",
        "print(acc_clf_prune)"
      ],
      "execution_count": 0,
      "outputs": [
        {
          "output_type": "stream",
          "text": [
            "0.801136363636\n"
          ],
          "name": "stdout"
        }
      ]
    },
    {
      "cell_type": "markdown",
      "metadata": {
        "colab_type": "text",
        "id": "xYtE9g2d_-ne"
      },
      "source": [
        "#### 3.5 Random Forest"
      ]
    },
    {
      "cell_type": "markdown",
      "metadata": {
        "colab_type": "text",
        "id": "klULfO1pv38l"
      },
      "source": [
        "First, let's import all necessary libraries to make the random forest work. \n",
        "\n",
        "After that we've fit the random tree by using the `rf.fit(Xtr,Ytr)` command"
      ]
    },
    {
      "cell_type": "code",
      "metadata": {
        "colab_type": "code",
        "id": "zqQcrfij_-nf",
        "outputId": "82296c61-6b38-4fec-ff64-3adb03904514",
        "colab": {
          "base_uri": "https://localhost:8080/",
          "height": 136
        }
      },
      "source": [
        "from sklearn.ensemble import RandomForestClassifier\n",
        "from sklearn.metrics import classification_report\n",
        "rf = RandomForestClassifier(n_estimators = 200, min_samples_leaf=1, max_depth=None, random_state = None,max_features=3)\n",
        "rf.fit(Xtr, Ytr)"
      ],
      "execution_count": 0,
      "outputs": [
        {
          "output_type": "execute_result",
          "data": {
            "text/plain": [
              "RandomForestClassifier(bootstrap=True, class_weight=None, criterion='gini',\n",
              "            max_depth=None, max_features=3, max_leaf_nodes=None,\n",
              "            min_impurity_decrease=0.0, min_impurity_split=None,\n",
              "            min_samples_leaf=1, min_samples_split=2,\n",
              "            min_weight_fraction_leaf=0.0, n_estimators=200, n_jobs=None,\n",
              "            oob_score=False, random_state=None, verbose=0,\n",
              "            warm_start=False)"
            ]
          },
          "metadata": {
            "tags": []
          },
          "execution_count": 123
        }
      ]
    },
    {
      "cell_type": "markdown",
      "metadata": {
        "colab_type": "text",
        "id": "sx8G-Qv_wcBG"
      },
      "source": [
        "Use the fitting result to predict the testing data `Xts`, and obtain the accuracy rate for Random Forest. "
      ]
    },
    {
      "cell_type": "code",
      "metadata": {
        "colab_type": "code",
        "id": "cNgQvHXc_-nj",
        "outputId": "2993e4c9-2db5-47a2-975d-281fd51f43c0",
        "colab": {
          "base_uri": "https://localhost:8080/",
          "height": 204
        }
      },
      "source": [
        "yhat_rf=rf.predict(Xts)\n",
        "acc_rf=np.mean(yhat_rf==Yts)\n",
        "\n",
        "\n",
        "print(\"The accuracy rate for Random Forest is: \", acc_rf)"
      ],
      "execution_count": 0,
      "outputs": [
        {
          "output_type": "stream",
          "text": [
            "The accuracy rate for Random Forest is:  0.892045454545\n"
          ],
          "name": "stdout"
        }
      ]
    },
    {
      "cell_type": "markdown",
      "metadata": {
        "colab_type": "text",
        "id": "mVpulvb4NFpD"
      },
      "source": [
        "#### 3.6 LASSO\n",
        "This time, we will use LASSO to fit the training data `xtr` and `ytr`"
      ]
    },
    {
      "cell_type": "code",
      "metadata": {
        "colab_type": "code",
        "id": "FgZijHupvUDe",
        "outputId": "c520a886-01cb-4ee3-bda6-9c2b3ef8ac9c",
        "colab": {
          "base_uri": "https://localhost:8080/",
          "height": 68
        }
      },
      "source": [
        "regr = Lasso(alpha = 1e-3,max_iter=100,tol=0.01)\n",
        "regr.fit(xtr,ytr)"
      ],
      "execution_count": 0,
      "outputs": [
        {
          "output_type": "execute_result",
          "data": {
            "text/plain": [
              "Lasso(alpha=0.001, copy_X=True, fit_intercept=True, max_iter=100,\n",
              "   normalize=False, positive=False, precompute=False, random_state=None,\n",
              "   selection='cyclic', tol=0.01, warm_start=False)"
            ]
          },
          "metadata": {
            "tags": []
          },
          "execution_count": 125
        }
      ]
    },
    {
      "cell_type": "markdown",
      "metadata": {
        "colab_type": "text",
        "id": "4mB4dO8-MmdU"
      },
      "source": [
        "Obtain the error rate for using this method, and print out the `rsq`"
      ]
    },
    {
      "cell_type": "code",
      "metadata": {
        "colab_type": "code",
        "id": "YxVd9C9QFh_y",
        "outputId": "17bdb183-6a98-4043-8096-0c8bd4bfccb8",
        "colab": {
          "base_uri": "https://localhost:8080/",
          "height": 34
        }
      },
      "source": [
        "Yhat = regr.predict(xts)\n",
        "rsq = r2_score(yts, Yhat)\n",
        "print('For LASSO, rsq is {0:f}'.format(rsq))"
      ],
      "execution_count": 0,
      "outputs": [
        {
          "output_type": "stream",
          "text": [
            "For LASSO, rsq is 0.226592\n"
          ],
          "name": "stdout"
        }
      ]
    },
    {
      "cell_type": "markdown",
      "metadata": {
        "colab_type": "text",
        "id": "rq2YEaGXNmq1"
      },
      "source": [
        "For a difference observation, instead of using `test_size = 0.5`, we've rescaled the training and testing data by using \n",
        "\n",
        "`test_size = 0.33`. \n",
        "\n",
        "Use LASSO to fit the training data again, and observe the rsq to see if there's any differences."
      ]
    },
    {
      "cell_type": "code",
      "metadata": {
        "colab_type": "code",
        "id": "ON3r4irIH7u1",
        "outputId": "fffa8c0e-2949-43f3-c626-cfa282e20bb5",
        "colab": {
          "base_uri": "https://localhost:8080/",
          "height": 34
        }
      },
      "source": [
        "regr = Lasso(alpha = 1e-3,max_iter=100,tol=0.01)\n",
        "regr.fit(Xtr,Ytr)\n",
        "\n",
        "#Print out rsq\n",
        "Yhat=regr.predict(Xts)\n",
        "rsq=r2_score(Yts,Yhat)\n",
        "print('Using a different training & testing scale, For LASSO, rsq is {0:f}'.format(rsq))"
      ],
      "execution_count": 0,
      "outputs": [
        {
          "output_type": "stream",
          "text": [
            "Using a different training & testing scale, For LASSO, rsq is 0.198212\n"
          ],
          "name": "stdout"
        }
      ]
    },
    {
      "cell_type": "markdown",
      "metadata": {
        "id": "bM3ldih-K_qe",
        "colab_type": "text"
      },
      "source": [
        "After that, we've plotted by using stem plot. As what we can see from the graph below, the accuracy is not as stable as what we've expected. This is due to the fact that the logistic regression is not good with small sample data predictions."
      ]
    },
    {
      "cell_type": "code",
      "metadata": {
        "id": "z2wszcWbGAII",
        "colab_type": "code",
        "outputId": "e627f4a0-5f00-43dc-be3d-9e6fc8f8ce87",
        "colab": {}
      },
      "source": [
        "from sklearn.model_selection import KFold\n",
        "from sklearn.metrics import precision_recall_fscore_support\n",
        "nfold = 10\n",
        "kf = KFold(n_splits=nfold,shuffle=True) \n",
        "    ytrLo = y[Itr]\n",
        "    XtsLo = X_scaled[Its,:]\n",
        "    ytsLo = y[Its]\n",
        "    \n",
        "    logreg.fit(XtrLo,ytrLo)\n",
        "    yhatLo = logreg.predict(XtsLo)\n",
        "    \n",
        "    \n",
        "    acc_rate.append(np.mean(ytsLo == yhatLo))\n",
        "\n",
        "plt.stem(range(10),acc_rate)\n",
        "plt.ylim([0.7,0.9])\n",
        "plt.xlabel('KFold/n')\n",
        "plt.ylabel('accuracy')\n",
        "plt.show()"
      ],
      "execution_count": 0,
      "outputs": [
        {
          "output_type": "display_data",
          "data": {
            "image/png": "[encoded data removed]",
            "text/plain": [
              "<Figure size 432x288 with 1 Axes>"
            ]
          },
          "metadata": {
            "tags": []
          }
        }
      ]
    },
    {
      "cell_type": "markdown",
      "metadata": {
        "colab_type": "text",
        "id": "jgd9hzLYR2sB"
      },
      "source": [
        "#### 3.7 Logistic Regression and Random Tree  using Down-sampling"
      ]
    },
    {
      "cell_type": "markdown",
      "metadata": {
        "colab_type": "text",
        "id": "Ko3I0KAowns0"
      },
      "source": [
        "First, we've defined a function which would downsample the data in `Wine Quality`\n",
        "\n",
        "Here's how we handle the data:\n",
        "\n",
        "* First, we've divided the data into three categories,\n",
        "  * `0` for Low Quality\n",
        "  *  `1` for Medium Quality\n",
        "  * `2` for High Quality\n",
        "\n",
        "* After that, we've reduce the amount of data which falls into the second category (`Medium Quality`) by implementing the following formula: \n",
        "\n",
        "  * `np.random.randint(len(data1), size=percent * (len(df) - len(data1))) `\n",
        "  * The function of this formula is to obtain a certain amount of unwanted data and exclude it from our overall dataset. \n",
        " "
      ]
    },
    {
      "cell_type": "code",
      "metadata": {
        "colab_type": "code",
        "id": "slKTpblnZ3TA",
        "colab": {}
      },
      "source": [
        "\n",
        "def lower_sample_data(df, percent):\n",
        "\n",
        "    data2 = df[df['quality_categorical'] == 2]\n",
        "    data1 = df[df['quality_categorical'] == 1]  \n",
        "    data0 = df[df['quality_categorical'] == 0]  \n",
        "    index = np.random.randint(\n",
        "        len(data1), size=percent * (len(df) - len(data1)))  \n",
        "    lower_data1 = data1.iloc[list(index)]  \n",
        "    return(pd.concat([data2, lower_data1, data0]))\n"
      ],
      "execution_count": 0,
      "outputs": []
    },
    {
      "cell_type": "markdown",
      "metadata": {
        "colab_type": "text",
        "id": "BbkU-IDgyUX7"
      },
      "source": [
        "After we've Down Sample the `Overall Quality` dataset, we've decided to use logistic regression on this dataset again, and obtain the overall accuracy rate. As what we can see from the accuracy below, the accuracy rate is still not as high as what we've expected to be. Therefore we would need to try another method of approach. "
      ]
    },
    {
      "cell_type": "code",
      "metadata": {
        "colab_type": "code",
        "id": "qw0C0Uup_-nz",
        "outputId": "e8e3877f-563c-41a7-f760-69df9fc00c77",
        "colab": {
          "base_uri": "https://localhost:8080/",
          "height": 51
        }
      },
      "source": [
        "percent_number=np.arange(1,20)\n",
        "acc_total=[]\n",
        "for i in percent_number: \n",
        "    df_lower=lower_sample_data(df,i)\n",
        "    quality_lower_raw = df_lower['quality_categorical']\n",
        "    features_lower_raw = df_lower.drop(['quality', 'quality_categorical'], axis = 1)\n",
        "\n",
        "    y_df_lower=df_lower['quality_categorical'].values\n",
        "    y_lower=np.array(y_df_lower)\n",
        "    X_df_lower=features_lower_raw.values\n",
        "    X_lower=np.array(X_df_lower)\n",
        "    #Scale the data first\n",
        "    X_scaled_lower=preprocessing.scale(X_lower)\n",
        "\n",
        "    #Split the data into Training & Testing\n",
        "    xtr_l,xts_l,ytr_l,yts_l = train_test_split(X_scaled_lower,y_lower)\n",
        "    #logreg=linear_model.LogisticRegression(C=1e5,multi_class='ovr',solver='lbfgs')\n",
        "    logreg=linear_model.LogisticRegression(C=1e5,multi_class='ovr',solver='lbfgs')\n",
        "\n",
        "    #logreg.fit(X_scaled,y)\n",
        "    logreg.fit(xtr_l,ytr_l)\n",
        "    yhat=logreg.predict(xts)\n",
        "    acc_l=np.mean(yhat==yts)\n",
        "    acc_total.append(acc_l)\n",
        "acc_max=np.where(acc_total==np.max(acc_total))[0]\n",
        "\n",
        "print(np.max(acc_total))\n",
        "print(acc_max)"
      ],
      "execution_count": 0,
      "outputs": [
        {
          "output_type": "stream",
          "text": [
            "0.82\n",
            "[3]\n"
          ],
          "name": "stdout"
        }
      ]
    },
    {
      "cell_type": "markdown",
      "metadata": {
        "colab_type": "text",
        "id": "mcpn7s6Ry03G"
      },
      "source": [
        "We've used the Random Tree method again in this block, and we've successfully obtained an error rate whicch is greater than 95%. Among all of the methodology that we've tried, this approach seems to be the most efficient."
      ]
    },
    {
      "cell_type": "code",
      "metadata": {
        "colab_type": "code",
        "id": "fW9UYyGd_-n3",
        "outputId": "b16869f7-7ff6-4397-feac-b4244009b132",
        "colab": {
          "base_uri": "https://localhost:8080/",
          "height": 51
        }
      },
      "source": [
        "percent_number=np.arange(1,20)\n",
        "acc_total=[]\n",
        "for i in percent_number: \n",
        "    df_lower=lower_sample_data(df,i)\n",
        "    quality_lower_raw = df_lower['quality_categorical']\n",
        "    features_lower_raw = df_lower.drop(['quality', 'quality_categorical'], axis = 1)\n",
        "\n",
        "    y_df_lower=df_lower['quality_categorical'].values\n",
        "    y_lower=np.array(y_df_lower)\n",
        "    X_df_lower=features_lower_raw.values\n",
        "    X_lower=np.array(X_df_lower)\n",
        "    #Scale the data first\n",
        "    X_scaled_lower=preprocessing.scale(X_lower)\n",
        "\n",
        "    #Split the data into Training & Testing\n",
        "    xtr_l,xts_l,ytr_l,yts_l = train_test_split(X_scaled_lower,y_lower)\n",
        "    \n",
        "    rf = RandomForestClassifier(n_estimators = 200, min_samples_leaf=1, max_depth=None, random_state = None,max_features=3)\n",
        "    rf.fit(xtr_l, ytr_l)\n",
        "\n",
        "    yhat_rf_lower=rf.predict(Xts)\n",
        "    acc_l=np.mean(yhat_rf_lower==Yts)\n",
        "    acc_total.append(acc_l)\n",
        "acc_max=np.where(acc_total==np.max(acc_total))[0]\n",
        "\n",
        "print(np.max(acc_total))\n",
        "print(acc_max)"
      ],
      "execution_count": 0,
      "outputs": [
        {
          "output_type": "stream",
          "text": [
            "0.962121212121\n",
            "[4]\n"
          ],
          "name": "stdout"
        }
      ]
    },
    {
      "cell_type": "markdown",
      "metadata": {
        "colab_type": "text",
        "id": "Hx3DYHUylwF3"
      },
      "source": [
        "### Summary\n",
        "\n",
        "After done analysing this dataset, here are the remarks of the difficulties that we've encountered while doing this final project: \n",
        "\n",
        "* For the output paramater \"Wine Quality\", the output data is not evenly distributed, a significant result of this pattern have made our accuracy rate to be extremely low at the beginning even with linear regression techniques. \n",
        "\n",
        "     * In order to solve this problem, we've tried the first approach by diving the dataset into three different parts: 0 stands for low quality, 1 stands for medium quality, and 2 stands for high quality. \n",
        "\n",
        "     * The second approach we've made is we've exclude a certain amount of medium quality data from the entire dataset.\n",
        "     \n",
        "* While we are using Random Forest to fit the training data, we've observed a very high accuracy rate. However, while we are using testing data to analyze the dataset, there appears to be overfitting. "
      ]
    },
    {
      "cell_type": "markdown",
      "metadata": {
        "colab_type": "text",
        "id": "UFrOEHBeshPH"
      },
      "source": [
        "### Conclusion\n",
        "\n",
        "Here's the conclusion for this project: \n",
        "\n",
        "* By dividing the quality into 3 parts have made our accuracy rate higher, but still not as high as what we are expected.\n",
        "\n",
        "* After we've divided data into three ratings, we've tried a numerous amount of data anlytics technique, such as Logistic Regression, SVM, Decision Tree, Random Forest and LASSO.\n",
        "\n",
        "* At the end, we've realized that the best regression technique is Logistic Regression and Random Forest. However, the accuracy rate is still not as high as what we think it's supposed to be. \n",
        "\n",
        "* By using down sampling technique have made our accuracy rate to be really high with linear regression. At the end, our accuracy rate is close to 96%, which is impressive considering how small the dataset is."
      ]
    },
    {
      "cell_type": "code",
      "metadata": {
        "colab_type": "code",
        "id": "yK8MBJnX_-n8",
        "colab": {}
      },
      "source": [
        ""
      ],
      "execution_count": 0,
      "outputs": []
    }
  ]
}